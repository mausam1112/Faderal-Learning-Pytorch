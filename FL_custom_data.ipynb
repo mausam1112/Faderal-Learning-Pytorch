{
 "cells": [
  {
   "cell_type": "code",
   "execution_count": 1,
   "metadata": {},
   "outputs": [],
   "source": [
    "import os "
   ]
  },
  {
   "cell_type": "code",
   "execution_count": 2,
   "metadata": {},
   "outputs": [],
   "source": [
    "train_data_path = './dataset/dataset/train'\n",
    "test_data_path = './dataset/dataset/test'\n",
    "\n",
    "classes_train = os.listdir(train_data_path)\n",
    "classes_test = os.listdir(train_data_path)\n",
    "\n",
    "assert classes_train==classes_test"
   ]
  },
  {
   "cell_type": "code",
   "execution_count": 7,
   "metadata": {},
   "outputs": [],
   "source": [
    "# train_images_path and test_images_path\n",
    "def get_image_paths(data_path, classes_train):\n",
    "    images_paths = []\n",
    "    for class_ in classes_train:\n",
    "        image_directory = os.path.join(data_path, class_)\n",
    "        images_paths = [os.path.join(image_directory, image_name) for image_name in os.listdir(image_directory)]\n",
    "    return images_paths"
   ]
  },
  {
   "cell_type": "code",
   "execution_count": 8,
   "metadata": {},
   "outputs": [],
   "source": [
    "train_image_paths = get_image_paths(train_data_path, classes_train)\n",
    "test_image_paths = get_image_paths(test_data_path, classes_train)"
   ]
  },
  {
   "cell_type": "code",
   "execution_count": 9,
   "metadata": {},
   "outputs": [],
   "source": [
    "assert all(list(map(lambda filepath: os.path.exists(filepath), train_image_paths)))\n",
    "assert all(list(map(lambda filepath: os.path.exists(filepath), test_image_paths)))"
   ]
  }
 ],
 "metadata": {
  "kernelspec": {
   "display_name": "llm",
   "language": "python",
   "name": "python3"
  },
  "language_info": {
   "codemirror_mode": {
    "name": "ipython",
    "version": 3
   },
   "file_extension": ".py",
   "mimetype": "text/x-python",
   "name": "python",
   "nbconvert_exporter": "python",
   "pygments_lexer": "ipython3",
   "version": "3.10.13"
  }
 },
 "nbformat": 4,
 "nbformat_minor": 2
}
