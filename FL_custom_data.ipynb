{
 "cells": [
  {
   "cell_type": "code",
   "execution_count": 1,
   "metadata": {},
   "outputs": [],
   "source": [
    "import os \n",
    "import cv2\n",
    "import numpy as np\n",
    "import torch"
   ]
  },
  {
   "cell_type": "code",
   "execution_count": 2,
   "metadata": {},
   "outputs": [],
   "source": [
    "train_data_path = './dataset/dataset/train'\n",
    "test_data_path = './dataset/dataset/test'\n",
    "\n",
    "classes_train = os.listdir(train_data_path)\n",
    "classes_test = os.listdir(train_data_path)\n",
    "\n",
    "assert classes_train==classes_test"
   ]
  },
  {
   "cell_type": "code",
   "execution_count": 3,
   "metadata": {},
   "outputs": [],
   "source": [
    "# train_images_path and test_images_path\n",
    "def get_image_paths(data_path, classes_train):\n",
    "    images_paths = []\n",
    "    for class_ in classes_train:\n",
    "        image_directory = os.path.join(data_path, class_)\n",
    "        images_paths = [os.path.join(image_directory, image_name) for image_name in os.listdir(image_directory)]\n",
    "    return images_paths"
   ]
  },
  {
   "cell_type": "code",
   "execution_count": 4,
   "metadata": {},
   "outputs": [],
   "source": [
    "train_image_paths = get_image_paths(train_data_path, classes_train)\n",
    "test_image_paths = get_image_paths(test_data_path, classes_train)"
   ]
  },
  {
   "cell_type": "code",
   "execution_count": 5,
   "metadata": {},
   "outputs": [],
   "source": [
    "assert all(list(map(lambda filepath: os.path.exists(filepath), train_image_paths)))\n",
    "assert all(list(map(lambda filepath: os.path.exists(filepath), test_image_paths)))"
   ]
  },
  {
   "cell_type": "code",
   "execution_count": 6,
   "metadata": {},
   "outputs": [
    {
     "data": {
      "text/plain": [
       "(623, 498, 125, 100)"
      ]
     },
     "execution_count": 6,
     "metadata": {},
     "output_type": "execute_result"
    }
   ],
   "source": [
    "thresh = int(0.8*len(train_image_paths))\n",
    "train_img_paths = train_image_paths[:thresh]\n",
    "valid_img_paths = train_image_paths[thresh:] \n",
    "\n",
    "len(train_image_paths), len(train_img_paths), len(valid_img_paths), len(test_image_paths)"
   ]
  },
  {
   "cell_type": "code",
   "execution_count": null,
   "metadata": {},
   "outputs": [],
   "source": [
    "image = cv2.imread(train_img_paths[0])#.shape\n",
    "image = np.array(image, np.int32)\n",
    "# image\n",
    "\n",
    "image = torch.from_numpy(image)\n",
    "type(image), image.dtype, image.permute(2, 0, 1).shape"
   ]
  }
 ],
 "metadata": {
  "kernelspec": {
   "display_name": "llm",
   "language": "python",
   "name": "python3"
  },
  "language_info": {
   "codemirror_mode": {
    "name": "ipython",
    "version": 3
   },
   "file_extension": ".py",
   "mimetype": "text/x-python",
   "name": "python",
   "nbconvert_exporter": "python",
   "pygments_lexer": "ipython3",
   "version": "3.10.13"
  }
 },
 "nbformat": 4,
 "nbformat_minor": 2
}
